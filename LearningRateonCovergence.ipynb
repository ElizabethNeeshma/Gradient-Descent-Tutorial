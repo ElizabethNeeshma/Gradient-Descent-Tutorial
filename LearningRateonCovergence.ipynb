{
 "cells": [
  {
   "cell_type": "code",
   "execution_count": null,
   "id": "575d444a",
   "metadata": {},
   "outputs": [],
   "source": [
    "import numpy as np\n",
    "import matplotlib.pyplot as plt\n",
    "from tensorflow import keras\n",
    "from tensorflow.keras import layers\n",
    "\n",
    "# Generate synthetic data\n",
    "x = np.random.rand(1000, 1)\n",
    "y = 2 * x + 1 + np.random.normal(0, 0.1, (1000, 1))\n",
    "\n",
    "# Define a simple model\n",
    "def create_model(learning_rate):\n",
    "    model = keras.Sequential([\n",
    "        layers.Dense(1, input_shape=(1,))\n",
    "    ])\n",
    "    model.compile(optimizer=keras.optimizers.SGD(learning_rate=learning_rate), loss='mean_squared_error')\n",
    "    return model\n",
    "\n",
    "# Train models with different learning rates\n",
    "learning_rates = [0.01, 0.1, 0.5]\n",
    "losses = []\n",
    "\n",
    "for lr in learning_rates:\n",
    "    model = create_model(lr)\n",
    "    history = model.fit(x, y, epochs=100, verbose=0)\n",
    "    losses.append(history.history['loss'])\n",
    "\n",
    "# Plotting the loss curves\n",
    "for i, lr in enumerate(learning_rates):\n",
    "    plt.plot(losses[i], label=f'Learning Rate: {lr}')\n",
    "\n",
    "plt.title('Effect of Learning Rate on Convergence')\n",
    "plt.xlabel('Epochs')\n",
    "plt.ylabel('Loss')\n",
    "plt.legend()\n",
    "plt.show()\n"
   ]
  }
 ],
 "metadata": {
  "kernelspec": {
   "display_name": "Python 3 (ipykernel)",
   "language": "python",
   "name": "python3"
  },
  "language_info": {
   "codemirror_mode": {
    "name": "ipython",
    "version": 3
   },
   "file_extension": ".py",
   "mimetype": "text/x-python",
   "name": "python",
   "nbconvert_exporter": "python",
   "pygments_lexer": "ipython3",
   "version": "3.11.5"
  }
 },
 "nbformat": 4,
 "nbformat_minor": 5
}
